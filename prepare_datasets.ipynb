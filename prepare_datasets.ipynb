{
  "nbformat": 4,
  "nbformat_minor": 0,
  "metadata": {
    "colab": {
      "name": "prepare_datasets.ipynb",
      "provenance": [],
      "machine_shape": "hm"
    },
    "kernelspec": {
      "name": "python3",
      "display_name": "Python 3"
    },
    "language_info": {
      "name": "python"
    }
  },
  "cells": [
    {
      "cell_type": "code",
      "execution_count": null,
      "metadata": {
        "colab": {
          "base_uri": "https://localhost:8080/"
        },
        "id": "KJMsB93JenUe",
        "outputId": "ab4bd569-3f8b-4b38-ef33-433e47330e23"
      },
      "outputs": [
        {
          "output_type": "stream",
          "name": "stdout",
          "text": [
            "Mounted at /content/drive\n"
          ]
        }
      ],
      "source": [
        "from google.colab import drive\n",
        "drive.mount(\"/content/drive\", force_remount=True)"
      ]
    },
    {
      "cell_type": "code",
      "source": [
        "import os\n",
        "\n",
        "DIR = 'drive/MyDrive/sber/'\n",
        "\n",
        "DATA_PATH = os.path.join(DIR, 'train.parquet')\n",
        "\n",
        "TRAIN_VAL1_PATH = os.path.join(DIR, 'train_val1.parquet')  \n",
        "TRAIN_VAL2_PATH = os.path.join(DIR, 'train_val2.parquet') \n",
        "\n",
        "VAL1_PATH = os.path.join(DIR, 'val1.parquet')  \n",
        "VAL2_PATH = os.path.join(DIR, 'val2.parquet')  \n",
        "\n",
        "TRAIN_TEST_PATH = os.path.join(DIR, 'train_test.parquet')\n",
        "TEST_IDS_PATH = os.path.join(DIR, 'test_ids.csv')\n",
        "VAL1_IDS_PATH = os.path.join(DIR, 'val1_ids.csv')  \n",
        "\n",
        "USER_DECODER_PATH = os.path.join(DIR, 'user_decoder.pkl') \n",
        "\n",
        "VAL1_USER_IDS_PATH = os.path.join(DIR, 'val1_user_ids.parquet')  \n",
        "VAL2_USER_IDS_PATH = os.path.join(DIR, 'val2_user_ids.parquet')  \n",
        "\n",
        "CLUSTERS_PATH = os.path.join(DIR, 'clusters.parquet') "
      ],
      "metadata": {
        "id": "1KISV0mkewMi"
      },
      "execution_count": null,
      "outputs": []
    },
    {
      "cell_type": "code",
      "source": [
        "import pandas as pd\n",
        "from datetime import datetime\n",
        "import numpy as np\n",
        "import pickle\n",
        "\n",
        "data = pd.read_parquet(DATA_PATH)\n",
        "\n",
        "col_type_map = {\n",
        "    'retailer_id': 'uint8',\n",
        "    'city_id': 'uint8',\n",
        "    'store_id': 'uint16',\n",
        "}\n",
        "\n",
        "for col in col_type_map:\n",
        "    mapping = dict(zip(data[col].unique(), range(data[col].nunique())))\n",
        "    data[col] = data[col].map(mapping).astype(col_type_map[col])\n",
        "\n",
        "data['cluster_id'] = data['cluster_id'].astype('uint16')\n",
        "data['product_quantity'] = data['product_quantity'].astype('uint16')\n",
        "data['dt'] = data['completed_at'].values.astype(np.int64) // 10 ** 12\n",
        "data['dt'] = data['dt'] - data['dt'].min()\n",
        "data['dt'] = data['dt'].astype(np.uint16)\n",
        "data = data.sort_values('dt')\n",
        "\n",
        "user_decoder = data['id'].unique()\n",
        "user_encoder = dict(zip(user_decoder, np.arange(len(user_decoder))))\n",
        "\n",
        "data['user_id'] = data['id'].map(user_encoder).astype(np.int32)\n",
        "\n",
        "val1_date_split = pd.to_datetime(datetime(year=2021, month=9, day=1))\n",
        "val2_date_split = pd.to_datetime(datetime(year=2021, month=8, day=1))\n",
        "\n",
        "train_val1 = data[data.completed_at <= val1_date_split]\n",
        "val1 = data[data.completed_at > val1_date_split]\n",
        "val1 = val1[val1.id.isin(train_val1.id)]\n",
        "\n",
        "train_val2 = data[data.completed_at <= val2_date_split]\n",
        "val2 = data[(data.completed_at > val2_date_split) & (data.completed_at <= val1_date_split)]\n",
        "val2 = val2[val2.id.isin(train_val2.id)]\n",
        "\n",
        "columns = ['user_id', 'order_id', 'dt', 'cluster_id', \n",
        "          'product_quantity', 'retailer_id', 'city_id', 'store_id',\n",
        "           'product_price', 'product_discount']\n",
        "\n",
        "train_val1[columns].to_parquet(TRAIN_VAL1_PATH, index=False)\n",
        "train_val2[columns].to_parquet(TRAIN_VAL2_PATH, index=False)\n",
        "\n",
        "columns_val = ['user_id', 'cluster_id']\n",
        "\n",
        "val1[columns_val].drop_duplicates().to_parquet(VAL1_PATH, index=False)\n",
        "val2[columns_val].drop_duplicates().to_parquet(VAL2_PATH, index=False)\n",
        "\n",
        "data[columns].to_parquet(TRAIN_TEST_PATH, index=False)\n",
        "\n",
        "val1['id'].drop_duplicates().to_csv(VAL1_IDS_PATH, index=False)\n",
        "\n",
        "pickle.dump(user_decoder, open(USER_DECODER_PATH, 'wb'))\n",
        "\n",
        "\n",
        "val1[['user_id']].drop_duplicates().to_parquet(VAL1_USER_IDS_PATH, index=False)\n",
        "val2[['user_id']].drop_duplicates().to_parquet(VAL2_USER_IDS_PATH, index=False)\n",
        "\n",
        "clusters = pd.read_parquet(CLUSTERS_PATH)\n",
        "for col in ['d_max', 'd_min', 'd_mean', 'd_median']:\n",
        "    clusters[col] = clusters[col].astype(np.float32)\n",
        "clusters['cluster_size'] = clusters['cluster_size'].astype(np.int16)\n",
        "clusters['cluster_id'] = clusters['cluster_id'].astype(np.uint16)\n",
        "clusters.to_parquet(CLUSTERS_PATH, index=False)"
      ],
      "metadata": {
        "id": "xVc4fiADe2iW"
      },
      "execution_count": null,
      "outputs": []
    },
    {
      "cell_type": "code",
      "source": [
        ""
      ],
      "metadata": {
        "id": "8J9JaI_Qe2lH"
      },
      "execution_count": null,
      "outputs": []
    },
    {
      "cell_type": "code",
      "source": [
        ""
      ],
      "metadata": {
        "id": "o9znrU7Ae2oe"
      },
      "execution_count": null,
      "outputs": []
    },
    {
      "cell_type": "code",
      "source": [
        ""
      ],
      "metadata": {
        "id": "hlp2l0sGe2qC"
      },
      "execution_count": null,
      "outputs": []
    },
    {
      "cell_type": "code",
      "source": [
        ""
      ],
      "metadata": {
        "id": "5KENtNYYe2tr"
      },
      "execution_count": null,
      "outputs": []
    }
  ]
}